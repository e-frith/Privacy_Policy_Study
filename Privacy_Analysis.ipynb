{
 "cells": [
  {
   "cell_type": "markdown",
   "metadata": {},
   "source": [
    "# Privacy Policy Study: \n",
    "## Examining the Privacy Policies of Popular Websites\n",
    "  \n",
    "**Ellie Frith**  \n",
    "  \n",
    "**April 28, 2020**"
   ]
  },
  {
   "cell_type": "markdown",
   "metadata": {},
   "source": [
    "### Part I: Import and Pre-Process Privacy Policy Dataset \n",
    "- Import relevant libraries\n",
    "- Read in data\n",
    "- Pre-process/ clean (remove /n, etc.)"
   ]
  },
  {
   "cell_type": "code",
   "execution_count": 1,
   "metadata": {},
   "outputs": [],
   "source": [
    "# Import relevant libraries\n",
    "\n",
    "import pandas as pd\n",
    "import numpy as np\n",
    "import matplotlib.pyplot as plt"
   ]
  },
  {
   "cell_type": "code",
   "execution_count": 2,
   "metadata": {},
   "outputs": [],
   "source": [
    "# Read in data\n",
    "policy_data = pd.read_excel('Privacy_Policies.xlsx')"
   ]
  },
  {
   "cell_type": "code",
   "execution_count": 3,
   "metadata": {},
   "outputs": [
    {
     "data": {
      "text/html": [
       "<div>\n",
       "<style scoped>\n",
       "    .dataframe tbody tr th:only-of-type {\n",
       "        vertical-align: middle;\n",
       "    }\n",
       "\n",
       "    .dataframe tbody tr th {\n",
       "        vertical-align: top;\n",
       "    }\n",
       "\n",
       "    .dataframe thead th {\n",
       "        text-align: right;\n",
       "    }\n",
       "</style>\n",
       "<table border=\"1\" class=\"dataframe\">\n",
       "  <thead>\n",
       "    <tr style=\"text-align: right;\">\n",
       "      <th></th>\n",
       "      <th>Website</th>\n",
       "      <th>Policy_text</th>\n",
       "      <th>Date</th>\n",
       "      <th>Location</th>\n",
       "      <th>Source</th>\n",
       "    </tr>\n",
       "  </thead>\n",
       "  <tbody>\n",
       "    <tr>\n",
       "      <th>0</th>\n",
       "      <td>Facebook</td>\n",
       "      <td>Data Policy\\nThis policy describes the informa...</td>\n",
       "      <td>2018-04-19</td>\n",
       "      <td>USA</td>\n",
       "      <td>https://www.facebook.com/policy.php</td>\n",
       "    </tr>\n",
       "    <tr>\n",
       "      <th>1</th>\n",
       "      <td>Facebook</td>\n",
       "      <td>California Privacy Notice\\n\\nThis California P...</td>\n",
       "      <td>2020-01-01</td>\n",
       "      <td>California</td>\n",
       "      <td>https://www.facebook.com/legal/policy/ccpa</td>\n",
       "    </tr>\n",
       "    <tr>\n",
       "      <th>2</th>\n",
       "      <td>Google</td>\n",
       "      <td>We build a range of services that help million...</td>\n",
       "      <td>2020-03-31</td>\n",
       "      <td>USA</td>\n",
       "      <td>https://policies.google.com/privacy?hl=en-US</td>\n",
       "    </tr>\n",
       "    <tr>\n",
       "      <th>3</th>\n",
       "      <td>Google</td>\n",
       "      <td>California requirements\\n\\nIf the California C...</td>\n",
       "      <td>2020-03-31</td>\n",
       "      <td>California</td>\n",
       "      <td>https://policies.google.com/privacy?hl=en-US</td>\n",
       "    </tr>\n",
       "    <tr>\n",
       "      <th>4</th>\n",
       "      <td>Twitter</td>\n",
       "      <td>Basic Account Information\\n\\nYou don’t have to...</td>\n",
       "      <td>2020-01-01</td>\n",
       "      <td>USA</td>\n",
       "      <td>https://twitter.com/en/privacy</td>\n",
       "    </tr>\n",
       "  </tbody>\n",
       "</table>\n",
       "</div>"
      ],
      "text/plain": [
       "    Website                                        Policy_text       Date  \\\n",
       "0  Facebook  Data Policy\\nThis policy describes the informa... 2018-04-19   \n",
       "1  Facebook  California Privacy Notice\\n\\nThis California P... 2020-01-01   \n",
       "2    Google  We build a range of services that help million... 2020-03-31   \n",
       "3    Google  California requirements\\n\\nIf the California C... 2020-03-31   \n",
       "4   Twitter  Basic Account Information\\n\\nYou don’t have to... 2020-01-01   \n",
       "\n",
       "     Location                                        Source  \n",
       "0         USA           https://www.facebook.com/policy.php  \n",
       "1  California    https://www.facebook.com/legal/policy/ccpa  \n",
       "2         USA  https://policies.google.com/privacy?hl=en-US  \n",
       "3  California  https://policies.google.com/privacy?hl=en-US  \n",
       "4         USA                https://twitter.com/en/privacy  "
      ]
     },
     "execution_count": 3,
     "metadata": {},
     "output_type": "execute_result"
    }
   ],
   "source": [
    "# Examine data set\n",
    "policy_data.head()"
   ]
  },
  {
   "cell_type": "code",
   "execution_count": 4,
   "metadata": {},
   "outputs": [
    {
     "data": {
      "text/plain": [
       "{'Amazon',\n",
       " 'Apple',\n",
       " 'Facebook',\n",
       " 'Firefox',\n",
       " 'Github',\n",
       " 'Google',\n",
       " 'Google Chrome',\n",
       " 'Instagram',\n",
       " 'LinkedIn',\n",
       " 'PayPal',\n",
       " 'Pinterest',\n",
       " 'Reddit',\n",
       " 'Slack',\n",
       " 'Snapchat',\n",
       " 'Spotify',\n",
       " 'TikTok',\n",
       " 'Twitter',\n",
       " 'Venmo',\n",
       " 'WhatsApp',\n",
       " 'YouTube',\n",
       " 'Zoom'}"
      ]
     },
     "execution_count": 4,
     "metadata": {},
     "output_type": "execute_result"
    }
   ],
   "source": [
    "set(list(policy_data.Website))"
   ]
  },
  {
   "cell_type": "code",
   "execution_count": 5,
   "metadata": {},
   "outputs": [],
   "source": [
    "# Write function to clean/ pre-process data\n",
    "\n",
    "def policy_clean(policy): \n",
    "    \n",
    "    # Remove new line indicators\n",
    "    policy = policy.replace('\\n',' ')\n",
    "    \n",
    "    # Replace punctuation, except apostrophe, with whitespace:\n",
    "    punct = \".,:;/?<>\\(\\)*&^%$#@!`~\\\"\\[\\]\\{\\}-_+=—\"\n",
    "    for i in punct:\n",
    "        policy = policy.replace(i, \" \")\n",
    "    \n",
    "    # Make lowercase\n",
    "    policy = policy.lower()\n",
    "    \n",
    "    # Split into words by whitespace\n",
    "    words = policy.split()\n",
    "    \n",
    "    return words"
   ]
  },
  {
   "cell_type": "code",
   "execution_count": 6,
   "metadata": {},
   "outputs": [],
   "source": [
    "# Clean policies & separate by word\n",
    "\n",
    "policy_data['Clean_Policy'] = policy_data['Policy_text'].apply(policy_clean)"
   ]
  },
  {
   "cell_type": "markdown",
   "metadata": {},
   "source": [
    "### Part II: Generate Statistics of Interest for Privacy Policy Dataset\n",
    "- Word counts for each policy\n",
    "- Average word count for privacy policies applicable to the United States\n",
    "- Average word count for California addendums\n",
    "- Total word count for U.S.-applicable policies and California addendums\n",
    "- Count of vague words for each policy\n",
    "- Percent of words that are vague for each policy\n",
    "- Reading time for each policy (assuming speed of 300 wpm)\n",
    "- Average reading time for U.S. applicable policies\n",
    "- Total reading time for U.S. applicable policies and California addendums"
   ]
  },
  {
   "cell_type": "code",
   "execution_count": 7,
   "metadata": {},
   "outputs": [],
   "source": [
    "# Get word count for each policy\n",
    "\n",
    "policy_data['Word_Count'] = policy_data['Clean_Policy'].apply(len)"
   ]
  },
  {
   "cell_type": "code",
   "execution_count": 8,
   "metadata": {},
   "outputs": [
    {
     "data": {
      "text/plain": [
       "3682.9523809523807"
      ]
     },
     "execution_count": 8,
     "metadata": {},
     "output_type": "execute_result"
    }
   ],
   "source": [
    "# Get average word count for US and World policies\n",
    "policy_data.Word_Count[policy_data['Location'].isin(['USA','World'])].mean()"
   ]
  },
  {
   "cell_type": "code",
   "execution_count": 9,
   "metadata": {},
   "outputs": [
    {
     "data": {
      "text/plain": [
       "925.2222222222222"
      ]
     },
     "execution_count": 9,
     "metadata": {},
     "output_type": "execute_result"
    }
   ],
   "source": [
    "# Get average word count for California addendums\n",
    "policy_data.Word_Count[policy_data['Location']== 'California'].mean()"
   ]
  },
  {
   "cell_type": "code",
   "execution_count": 10,
   "metadata": {},
   "outputs": [
    {
     "data": {
      "text/plain": [
       "85669"
      ]
     },
     "execution_count": 10,
     "metadata": {},
     "output_type": "execute_result"
    }
   ],
   "source": [
    "# Total word count for all US, World, and California policies\n",
    "policy_data.Word_Count[policy_data['Location'].isin(['USA','World','California'])].sum()"
   ]
  },
  {
   "cell_type": "code",
   "execution_count": 11,
   "metadata": {},
   "outputs": [],
   "source": [
    "# Get count of vague words for each policy\n",
    "\n",
    "def vague_count(word_list):\n",
    "    \n",
    "    vague_words = [\"may\", \"most\", \"some\", \"might\", \"should\", \"probable\",\"probably\", \"about\", \"roughly\", \"maybe\",\n",
    "                   \"could\", \"almost\", \"perhaps\", \"occasionally\", \"occaisional\", \"normally\",\"ordinarily\",\"certain\",\n",
    "                   \"general\", \"many\", \"various\", \"sometimes\",\"reasonable\",\"reasonably\", \"usually\",\"periodically\",\n",
    "                   \"depending\", \"applicable\", \"typically\",\"often\",\"generally\", \"commonly\",\"widely\",\"primarily\",\n",
    "                   \"largely\",\"mostly\", \"likely\",\"would\", \"can\",\"periodical\"]\n",
    "    \n",
    "    count = 0\n",
    "    \n",
    "    for word in word_list:\n",
    "        if word in vague_words:\n",
    "            count = count+1\n",
    "            \n",
    "    return count"
   ]
  },
  {
   "cell_type": "code",
   "execution_count": 12,
   "metadata": {},
   "outputs": [],
   "source": [
    "policy_data[\"Vague_Count\"] = policy_data['Clean_Policy'].apply(vague_count)"
   ]
  },
  {
   "cell_type": "code",
   "execution_count": 13,
   "metadata": {},
   "outputs": [
    {
     "data": {
      "text/plain": [
       "107.0952380952381"
      ]
     },
     "execution_count": 13,
     "metadata": {},
     "output_type": "execute_result"
    }
   ],
   "source": [
    "# Get average vague count for US and World policies\n",
    "policy_data.Vague_Count[policy_data['Location'].isin(['USA','World'])].mean()"
   ]
  },
  {
   "cell_type": "code",
   "execution_count": 14,
   "metadata": {},
   "outputs": [],
   "source": [
    "# Get percentage of policy words that are vague\n",
    "\n",
    "policy_data[\"Vague_Percent\"] = policy_data['Vague_Count']/policy_data['Word_Count']"
   ]
  },
  {
   "cell_type": "code",
   "execution_count": 15,
   "metadata": {},
   "outputs": [],
   "source": [
    "# Calculate minutes needed to read each policy, assuming average person reads 300 wpm\n",
    "\n",
    "policy_data['Reading_Time'] = policy_data['Word_Count']/300"
   ]
  },
  {
   "cell_type": "code",
   "execution_count": 16,
   "metadata": {},
   "outputs": [
    {
     "data": {
      "text/plain": [
       "12.276507936507937"
      ]
     },
     "execution_count": 16,
     "metadata": {},
     "output_type": "execute_result"
    }
   ],
   "source": [
    "# Average reading time for all US and World policies\n",
    "policy_data.Reading_Time[policy_data['Location'].isin(['USA','World'])].mean()"
   ]
  },
  {
   "cell_type": "code",
   "execution_count": 17,
   "metadata": {},
   "outputs": [
    {
     "data": {
      "text/plain": [
       "4.75938888888889"
      ]
     },
     "execution_count": 17,
     "metadata": {},
     "output_type": "execute_result"
    }
   ],
   "source": [
    "# Total reading time (in hours) for all US, World, and California policies in data set\n",
    "policy_data.Reading_Time[policy_data['Location'].isin(['USA','World','California'])].sum()/60"
   ]
  },
  {
   "cell_type": "code",
   "execution_count": 18,
   "metadata": {},
   "outputs": [
    {
     "data": {
      "text/html": [
       "<div>\n",
       "<style scoped>\n",
       "    .dataframe tbody tr th:only-of-type {\n",
       "        vertical-align: middle;\n",
       "    }\n",
       "\n",
       "    .dataframe tbody tr th {\n",
       "        vertical-align: top;\n",
       "    }\n",
       "\n",
       "    .dataframe thead th {\n",
       "        text-align: right;\n",
       "    }\n",
       "</style>\n",
       "<table border=\"1\" class=\"dataframe\">\n",
       "  <thead>\n",
       "    <tr style=\"text-align: right;\">\n",
       "      <th></th>\n",
       "      <th>Website</th>\n",
       "      <th>Policy_text</th>\n",
       "      <th>Date</th>\n",
       "      <th>Location</th>\n",
       "      <th>Source</th>\n",
       "      <th>Clean_Policy</th>\n",
       "      <th>Word_Count</th>\n",
       "      <th>Vague_Count</th>\n",
       "      <th>Vague_Percent</th>\n",
       "      <th>Reading_Time</th>\n",
       "    </tr>\n",
       "  </thead>\n",
       "  <tbody>\n",
       "    <tr>\n",
       "      <th>0</th>\n",
       "      <td>Facebook</td>\n",
       "      <td>Data Policy\\nThis policy describes the informa...</td>\n",
       "      <td>2018-04-19</td>\n",
       "      <td>USA</td>\n",
       "      <td>https://www.facebook.com/policy.php</td>\n",
       "      <td>[data, policy, this, policy, describes, the, i...</td>\n",
       "      <td>4175</td>\n",
       "      <td>124</td>\n",
       "      <td>0.029701</td>\n",
       "      <td>13.916667</td>\n",
       "    </tr>\n",
       "    <tr>\n",
       "      <th>1</th>\n",
       "      <td>Facebook</td>\n",
       "      <td>California Privacy Notice\\n\\nThis California P...</td>\n",
       "      <td>2020-01-01</td>\n",
       "      <td>California</td>\n",
       "      <td>https://www.facebook.com/legal/policy/ccpa</td>\n",
       "      <td>[california, privacy, notice, this, california...</td>\n",
       "      <td>1250</td>\n",
       "      <td>42</td>\n",
       "      <td>0.033600</td>\n",
       "      <td>4.166667</td>\n",
       "    </tr>\n",
       "    <tr>\n",
       "      <th>2</th>\n",
       "      <td>Google</td>\n",
       "      <td>We build a range of services that help million...</td>\n",
       "      <td>2020-03-31</td>\n",
       "      <td>USA</td>\n",
       "      <td>https://policies.google.com/privacy?hl=en-US</td>\n",
       "      <td>[we, build, a, range, of, services, that, help...</td>\n",
       "      <td>3748</td>\n",
       "      <td>115</td>\n",
       "      <td>0.030683</td>\n",
       "      <td>12.493333</td>\n",
       "    </tr>\n",
       "    <tr>\n",
       "      <th>3</th>\n",
       "      <td>Google</td>\n",
       "      <td>California requirements\\n\\nIf the California C...</td>\n",
       "      <td>2020-03-31</td>\n",
       "      <td>California</td>\n",
       "      <td>https://policies.google.com/privacy?hl=en-US</td>\n",
       "      <td>[california, requirements, if, the, california...</td>\n",
       "      <td>449</td>\n",
       "      <td>15</td>\n",
       "      <td>0.033408</td>\n",
       "      <td>1.496667</td>\n",
       "    </tr>\n",
       "    <tr>\n",
       "      <th>4</th>\n",
       "      <td>Twitter</td>\n",
       "      <td>Basic Account Information\\n\\nYou don’t have to...</td>\n",
       "      <td>2020-01-01</td>\n",
       "      <td>USA</td>\n",
       "      <td>https://twitter.com/en/privacy</td>\n",
       "      <td>[basic, account, information, you, don’t, have...</td>\n",
       "      <td>4947</td>\n",
       "      <td>135</td>\n",
       "      <td>0.027289</td>\n",
       "      <td>16.490000</td>\n",
       "    </tr>\n",
       "  </tbody>\n",
       "</table>\n",
       "</div>"
      ],
      "text/plain": [
       "    Website                                        Policy_text       Date  \\\n",
       "0  Facebook  Data Policy\\nThis policy describes the informa... 2018-04-19   \n",
       "1  Facebook  California Privacy Notice\\n\\nThis California P... 2020-01-01   \n",
       "2    Google  We build a range of services that help million... 2020-03-31   \n",
       "3    Google  California requirements\\n\\nIf the California C... 2020-03-31   \n",
       "4   Twitter  Basic Account Information\\n\\nYou don’t have to... 2020-01-01   \n",
       "\n",
       "     Location                                        Source  \\\n",
       "0         USA           https://www.facebook.com/policy.php   \n",
       "1  California    https://www.facebook.com/legal/policy/ccpa   \n",
       "2         USA  https://policies.google.com/privacy?hl=en-US   \n",
       "3  California  https://policies.google.com/privacy?hl=en-US   \n",
       "4         USA                https://twitter.com/en/privacy   \n",
       "\n",
       "                                        Clean_Policy  Word_Count  Vague_Count  \\\n",
       "0  [data, policy, this, policy, describes, the, i...        4175          124   \n",
       "1  [california, privacy, notice, this, california...        1250           42   \n",
       "2  [we, build, a, range, of, services, that, help...        3748          115   \n",
       "3  [california, requirements, if, the, california...         449           15   \n",
       "4  [basic, account, information, you, don’t, have...        4947          135   \n",
       "\n",
       "   Vague_Percent  Reading_Time  \n",
       "0       0.029701     13.916667  \n",
       "1       0.033600      4.166667  \n",
       "2       0.030683     12.493333  \n",
       "3       0.033408      1.496667  \n",
       "4       0.027289     16.490000  "
      ]
     },
     "execution_count": 18,
     "metadata": {},
     "output_type": "execute_result"
    }
   ],
   "source": [
    "policy_data.head()"
   ]
  },
  {
   "cell_type": "markdown",
   "metadata": {},
   "source": [
    "### Part III: Import and Pre-Process Privacy Survey Results\n",
    "- Read in data \n",
    "- Subset and clean data (reformat binary variables, etc.)"
   ]
  },
  {
   "cell_type": "code",
   "execution_count": 19,
   "metadata": {},
   "outputs": [],
   "source": [
    "# Read in data\n",
    "survey_results = pd.read_csv(\"Privacy_Survey_05012020.csv\")"
   ]
  },
  {
   "cell_type": "code",
   "execution_count": 20,
   "metadata": {},
   "outputs": [],
   "source": [
    "# Take only key columns and rows \n",
    "questions = survey_results.iloc[0,10:]\n",
    "key_cols = ['Finished','RecordedDate','Q9','Q8','Q1','Q2','Q3','Q4','Q5','Q6','Q7']\n",
    "clean_results = survey_results.loc[3:,key_cols]"
   ]
  },
  {
   "cell_type": "code",
   "execution_count": 21,
   "metadata": {},
   "outputs": [],
   "source": [
    "# Rename colums\n",
    "\n",
    "clean_results.rename(columns = {'Q9':'internet_daily',\n",
    "                                'Q8':'internet_required',\n",
    "                                'Q1':'priv_important',\n",
    "                                'Q2':'read_whole',\n",
    "                                'Q3':'typically_read',\n",
    "                                'Q4':'why_not',\n",
    "                                'Q5':'change_beh',\n",
    "                                'Q6':'breach_concern',\n",
    "                                'Q7':'breach_affected'},\n",
    "                    inplace = True)"
   ]
  },
  {
   "cell_type": "code",
   "execution_count": 22,
   "metadata": {},
   "outputs": [],
   "source": [
    "# Write function to convert yes, no, and maybe questions to numeric keys \n",
    "\n",
    "def yes_no(cell):\n",
    "    key = 0\n",
    "    if cell == 'Yes':\n",
    "        key = 1\n",
    "    elif cell == \"I don't know\":\n",
    "        key = 2\n",
    "    return key"
   ]
  },
  {
   "cell_type": "code",
   "execution_count": 23,
   "metadata": {},
   "outputs": [],
   "source": [
    "# Apply above function to applicable columns:\n",
    "\n",
    "for i in (2,3,4,5,6,9,10):\n",
    "    clean_results.iloc[:,i] = clean_results.iloc[:,i].apply(yes_no)"
   ]
  },
  {
   "cell_type": "code",
   "execution_count": 24,
   "metadata": {},
   "outputs": [],
   "source": [
    "# Write function to convert messy 'why_not' variable strings into lists of responses\n",
    "\n",
    "def reformat(why_nots):\n",
    "\n",
    "    if pd.isnull(why_nots)==False:\n",
    "        \n",
    "        string_list = why_nots.split(',')\n",
    "        for string in string_list:\n",
    "            string = string.strip()\n",
    "            \n",
    "    else:\n",
    "        string_list = why_nots   \n",
    "    return(string_list)"
   ]
  },
  {
   "cell_type": "code",
   "execution_count": 25,
   "metadata": {},
   "outputs": [],
   "source": [
    "# Apply above function to applicable column\n",
    "\n",
    "clean_results.why_not = clean_results.why_not.apply(reformat)"
   ]
  },
  {
   "cell_type": "code",
   "execution_count": 50,
   "metadata": {},
   "outputs": [
    {
     "data": {
      "text/html": [
       "<div>\n",
       "<style scoped>\n",
       "    .dataframe tbody tr th:only-of-type {\n",
       "        vertical-align: middle;\n",
       "    }\n",
       "\n",
       "    .dataframe tbody tr th {\n",
       "        vertical-align: top;\n",
       "    }\n",
       "\n",
       "    .dataframe thead th {\n",
       "        text-align: right;\n",
       "    }\n",
       "</style>\n",
       "<table border=\"1\" class=\"dataframe\">\n",
       "  <thead>\n",
       "    <tr style=\"text-align: right;\">\n",
       "      <th></th>\n",
       "      <th>Finished</th>\n",
       "      <th>RecordedDate</th>\n",
       "      <th>internet_daily</th>\n",
       "      <th>internet_required</th>\n",
       "      <th>priv_important</th>\n",
       "      <th>read_whole</th>\n",
       "      <th>typically_read</th>\n",
       "      <th>why_not</th>\n",
       "      <th>change_beh</th>\n",
       "      <th>breach_concern</th>\n",
       "      <th>breach_affected</th>\n",
       "    </tr>\n",
       "  </thead>\n",
       "  <tbody>\n",
       "    <tr>\n",
       "      <th>3</th>\n",
       "      <td>True</td>\n",
       "      <td>2020-04-29 17:19:24</td>\n",
       "      <td>1</td>\n",
       "      <td>1</td>\n",
       "      <td>1</td>\n",
       "      <td>0</td>\n",
       "      <td>0</td>\n",
       "      <td>[Privacy policies are too long, Privacy polici...</td>\n",
       "      <td>NaN</td>\n",
       "      <td>1</td>\n",
       "      <td>2</td>\n",
       "    </tr>\n",
       "    <tr>\n",
       "      <th>4</th>\n",
       "      <td>True</td>\n",
       "      <td>2020-04-29 17:20:36</td>\n",
       "      <td>1</td>\n",
       "      <td>1</td>\n",
       "      <td>1</td>\n",
       "      <td>0</td>\n",
       "      <td>0</td>\n",
       "      <td>[Privacy policies are too long, Privacy polici...</td>\n",
       "      <td>NaN</td>\n",
       "      <td>1</td>\n",
       "      <td>2</td>\n",
       "    </tr>\n",
       "    <tr>\n",
       "      <th>5</th>\n",
       "      <td>True</td>\n",
       "      <td>2020-04-29 17:24:00</td>\n",
       "      <td>1</td>\n",
       "      <td>1</td>\n",
       "      <td>1</td>\n",
       "      <td>0</td>\n",
       "      <td>0</td>\n",
       "      <td>[Privacy policies are too long, I don't have t...</td>\n",
       "      <td>NaN</td>\n",
       "      <td>1</td>\n",
       "      <td>1</td>\n",
       "    </tr>\n",
       "    <tr>\n",
       "      <th>6</th>\n",
       "      <td>True</td>\n",
       "      <td>2020-04-29 17:24:48</td>\n",
       "      <td>1</td>\n",
       "      <td>1</td>\n",
       "      <td>1</td>\n",
       "      <td>0</td>\n",
       "      <td>0</td>\n",
       "      <td>[Privacy policies are too long, I don't have t...</td>\n",
       "      <td>NaN</td>\n",
       "      <td>1</td>\n",
       "      <td>2</td>\n",
       "    </tr>\n",
       "    <tr>\n",
       "      <th>7</th>\n",
       "      <td>True</td>\n",
       "      <td>2020-04-29 17:25:12</td>\n",
       "      <td>1</td>\n",
       "      <td>1</td>\n",
       "      <td>1</td>\n",
       "      <td>0</td>\n",
       "      <td>0</td>\n",
       "      <td>[Privacy policies are too long, I don't have t...</td>\n",
       "      <td>NaN</td>\n",
       "      <td>1</td>\n",
       "      <td>2</td>\n",
       "    </tr>\n",
       "  </tbody>\n",
       "</table>\n",
       "</div>"
      ],
      "text/plain": [
       "  Finished         RecordedDate  internet_daily  internet_required  \\\n",
       "3     True  2020-04-29 17:19:24               1                  1   \n",
       "4     True  2020-04-29 17:20:36               1                  1   \n",
       "5     True  2020-04-29 17:24:00               1                  1   \n",
       "6     True  2020-04-29 17:24:48               1                  1   \n",
       "7     True  2020-04-29 17:25:12               1                  1   \n",
       "\n",
       "   priv_important  read_whole  typically_read  \\\n",
       "3               1           0               0   \n",
       "4               1           0               0   \n",
       "5               1           0               0   \n",
       "6               1           0               0   \n",
       "7               1           0               0   \n",
       "\n",
       "                                             why_not change_beh  \\\n",
       "3  [Privacy policies are too long, Privacy polici...        NaN   \n",
       "4  [Privacy policies are too long, Privacy polici...        NaN   \n",
       "5  [Privacy policies are too long, I don't have t...        NaN   \n",
       "6  [Privacy policies are too long, I don't have t...        NaN   \n",
       "7  [Privacy policies are too long, I don't have t...        NaN   \n",
       "\n",
       "   breach_concern  breach_affected  \n",
       "3               1                2  \n",
       "4               1                2  \n",
       "5               1                1  \n",
       "6               1                2  \n",
       "7               1                2  "
      ]
     },
     "execution_count": 50,
     "metadata": {},
     "output_type": "execute_result"
    }
   ],
   "source": [
    "clean_results.head()"
   ]
  },
  {
   "cell_type": "markdown",
   "metadata": {},
   "source": [
    "### Part IV: Generate Statistics of Interest for Privacy Survey Results"
   ]
  },
  {
   "cell_type": "markdown",
   "metadata": {},
   "source": [
    "- Number of individuals who completed the survey"
   ]
  },
  {
   "cell_type": "code",
   "execution_count": 26,
   "metadata": {},
   "outputs": [
    {
     "data": {
      "text/plain": [
       "82"
      ]
     },
     "execution_count": 26,
     "metadata": {},
     "output_type": "execute_result"
    }
   ],
   "source": [
    "# Get number of entries in data set \n",
    "\n",
    "n = clean_results.shape[0]\n",
    "n"
   ]
  },
  {
   "cell_type": "markdown",
   "metadata": {},
   "source": [
    "- Number of respondents who use the internet daily:"
   ]
  },
  {
   "cell_type": "code",
   "execution_count": 27,
   "metadata": {},
   "outputs": [
    {
     "data": {
      "text/plain": [
       "82"
      ]
     },
     "execution_count": 27,
     "metadata": {},
     "output_type": "execute_result"
    }
   ],
   "source": [
    "clean_results.internet_daily.sum()"
   ]
  },
  {
   "cell_type": "markdown",
   "metadata": {},
   "source": [
    "- Number of respondents whose work or education requires internet use:"
   ]
  },
  {
   "cell_type": "code",
   "execution_count": 28,
   "metadata": {},
   "outputs": [
    {
     "data": {
      "text/plain": [
       "81"
      ]
     },
     "execution_count": 28,
     "metadata": {},
     "output_type": "execute_result"
    }
   ],
   "source": [
    "clean_results.internet_required.sum()"
   ]
  },
  {
   "cell_type": "markdown",
   "metadata": {},
   "source": [
    "- Number of respondents for whom data privacy is important:"
   ]
  },
  {
   "cell_type": "code",
   "execution_count": 29,
   "metadata": {},
   "outputs": [
    {
     "data": {
      "text/plain": [
       "77"
      ]
     },
     "execution_count": 29,
     "metadata": {},
     "output_type": "execute_result"
    }
   ],
   "source": [
    "clean_results.priv_important.sum()"
   ]
  },
  {
   "cell_type": "markdown",
   "metadata": {},
   "source": [
    "- Number of respondents who have ever read an entire privacy policy:"
   ]
  },
  {
   "cell_type": "code",
   "execution_count": 30,
   "metadata": {},
   "outputs": [
    {
     "data": {
      "text/plain": [
       "11"
      ]
     },
     "execution_count": 30,
     "metadata": {},
     "output_type": "execute_result"
    }
   ],
   "source": [
    "clean_results.read_whole.sum()"
   ]
  },
  {
   "cell_type": "markdown",
   "metadata": {},
   "source": [
    "- Number of respondents who typically read privacy policies:"
   ]
  },
  {
   "cell_type": "code",
   "execution_count": 31,
   "metadata": {},
   "outputs": [
    {
     "data": {
      "text/plain": [
       "1"
      ]
     },
     "execution_count": 31,
     "metadata": {},
     "output_type": "execute_result"
    }
   ],
   "source": [
    "clean_results.typically_read.sum()"
   ]
  },
  {
   "cell_type": "markdown",
   "metadata": {},
   "source": [
    "- How often respondents who read privacy policies change their behavior based on those policies:"
   ]
  },
  {
   "cell_type": "code",
   "execution_count": 32,
   "metadata": {},
   "outputs": [
    {
     "data": {
      "text/plain": [
       "70    Always\n",
       "Name: change_beh, dtype: object"
      ]
     },
     "execution_count": 32,
     "metadata": {},
     "output_type": "execute_result"
    }
   ],
   "source": [
    "clean_results.change_beh[clean_results.typically_read == 1]"
   ]
  },
  {
   "cell_type": "markdown",
   "metadata": {},
   "source": [
    "- Get counts for reasons why people don't read privacy policies: "
   ]
  },
  {
   "cell_type": "code",
   "execution_count": 33,
   "metadata": {},
   "outputs": [],
   "source": [
    "# Write function to create list of all reasons given and apply function\n",
    "\n",
    "def reason_list(df):\n",
    "    \n",
    "    reason_list = []\n",
    "    \n",
    "    for i in df.why_not:\n",
    "        if type(i)!=float:\n",
    "            for item in i:\n",
    "                reason_list.append(item)  \n",
    "                \n",
    "    return reason_list\n",
    "\n",
    "\n",
    "\n",
    "why_not_list = reason_list(clean_results)"
   ]
  },
  {
   "cell_type": "code",
   "execution_count": 34,
   "metadata": {},
   "outputs": [],
   "source": [
    "# Put unique reasons in df\n",
    "\n",
    "reasons_df = pd.DataFrame(set(why_not_list))\n",
    "reasons_df.rename(columns = {0:'Reason'}, inplace = True)"
   ]
  },
  {
   "cell_type": "code",
   "execution_count": 35,
   "metadata": {},
   "outputs": [],
   "source": [
    "# Get counts for each reason:\n",
    "\n",
    "def reason_count(reason, why_not_list):\n",
    "    count = 0\n",
    "    \n",
    "    for i in why_not_list:\n",
    "        if i == reason:\n",
    "            count = count+1\n",
    "    return count\n",
    "\n",
    "reasons_df['Count'] = reasons_df.Reason.apply(lambda x: reason_count(x, why_not_list))"
   ]
  },
  {
   "cell_type": "code",
   "execution_count": 36,
   "metadata": {},
   "outputs": [
    {
     "data": {
      "text/html": [
       "<div>\n",
       "<style scoped>\n",
       "    .dataframe tbody tr th:only-of-type {\n",
       "        vertical-align: middle;\n",
       "    }\n",
       "\n",
       "    .dataframe tbody tr th {\n",
       "        vertical-align: top;\n",
       "    }\n",
       "\n",
       "    .dataframe thead th {\n",
       "        text-align: right;\n",
       "    }\n",
       "</style>\n",
       "<table border=\"1\" class=\"dataframe\">\n",
       "  <thead>\n",
       "    <tr style=\"text-align: right;\">\n",
       "      <th></th>\n",
       "      <th>Reason</th>\n",
       "      <th>Count</th>\n",
       "    </tr>\n",
       "  </thead>\n",
       "  <tbody>\n",
       "    <tr>\n",
       "      <th>5</th>\n",
       "      <td>Privacy policies are too long</td>\n",
       "      <td>74</td>\n",
       "    </tr>\n",
       "    <tr>\n",
       "      <th>0</th>\n",
       "      <td>I don't have time to read all the privacy poli...</td>\n",
       "      <td>59</td>\n",
       "    </tr>\n",
       "    <tr>\n",
       "      <th>1</th>\n",
       "      <td>Privacy policies are confusing</td>\n",
       "      <td>45</td>\n",
       "    </tr>\n",
       "    <tr>\n",
       "      <th>3</th>\n",
       "      <td>Privacy policies are uninformative</td>\n",
       "      <td>19</td>\n",
       "    </tr>\n",
       "    <tr>\n",
       "      <th>4</th>\n",
       "      <td>Other</td>\n",
       "      <td>12</td>\n",
       "    </tr>\n",
       "    <tr>\n",
       "      <th>6</th>\n",
       "      <td>I believe my personal information is not at risk</td>\n",
       "      <td>7</td>\n",
       "    </tr>\n",
       "    <tr>\n",
       "      <th>2</th>\n",
       "      <td>Web privacy does not concern me</td>\n",
       "      <td>3</td>\n",
       "    </tr>\n",
       "  </tbody>\n",
       "</table>\n",
       "</div>"
      ],
      "text/plain": [
       "                                              Reason  Count\n",
       "5                      Privacy policies are too long     74\n",
       "0  I don't have time to read all the privacy poli...     59\n",
       "1                     Privacy policies are confusing     45\n",
       "3                 Privacy policies are uninformative     19\n",
       "4                                              Other     12\n",
       "6   I believe my personal information is not at risk      7\n",
       "2                    Web privacy does not concern me      3"
      ]
     },
     "execution_count": 36,
     "metadata": {},
     "output_type": "execute_result"
    }
   ],
   "source": [
    "# Display results\n",
    "reasons_df.sort_values(by = 'Count', axis = 0, ascending = False, inplace = True)\n",
    "reasons_df"
   ]
  },
  {
   "cell_type": "markdown",
   "metadata": {},
   "source": [
    "- Number of respondents who are concerned by data breaches:"
   ]
  },
  {
   "cell_type": "code",
   "execution_count": 37,
   "metadata": {},
   "outputs": [
    {
     "data": {
      "text/plain": [
       "76"
      ]
     },
     "execution_count": 37,
     "metadata": {},
     "output_type": "execute_result"
    }
   ],
   "source": [
    "clean_results.breach_concern.sum()"
   ]
  },
  {
   "cell_type": "markdown",
   "metadata": {},
   "source": [
    "- Number of respondents who have been affected by a data breach:"
   ]
  },
  {
   "cell_type": "code",
   "execution_count": 38,
   "metadata": {},
   "outputs": [
    {
     "data": {
      "text/plain": [
       "28"
      ]
     },
     "execution_count": 38,
     "metadata": {},
     "output_type": "execute_result"
    }
   ],
   "source": [
    "len(clean_results.breach_affected[clean_results.breach_affected == 1])"
   ]
  },
  {
   "cell_type": "markdown",
   "metadata": {},
   "source": [
    "- Number of respondents who have not been affected by a data breach:"
   ]
  },
  {
   "cell_type": "code",
   "execution_count": 39,
   "metadata": {},
   "outputs": [
    {
     "data": {
      "text/plain": [
       "18"
      ]
     },
     "execution_count": 39,
     "metadata": {},
     "output_type": "execute_result"
    }
   ],
   "source": [
    "len(clean_results.breach_affected[clean_results.breach_affected == 0])"
   ]
  },
  {
   "cell_type": "markdown",
   "metadata": {},
   "source": [
    "- Number of respondents who do not know whether they have been affected by a data breach:"
   ]
  },
  {
   "cell_type": "code",
   "execution_count": 40,
   "metadata": {},
   "outputs": [
    {
     "data": {
      "text/plain": [
       "36"
      ]
     },
     "execution_count": 40,
     "metadata": {},
     "output_type": "execute_result"
    }
   ],
   "source": [
    "len(clean_results.breach_affected[clean_results.breach_affected == 2])"
   ]
  },
  {
   "cell_type": "markdown",
   "metadata": {},
   "source": [
    "### Part V: Visualize Quantities of Interest"
   ]
  },
  {
   "cell_type": "markdown",
   "metadata": {},
   "source": [
    "- Plot of estimated time required to read company privacy policies"
   ]
  },
  {
   "cell_type": "code",
   "execution_count": 41,
   "metadata": {},
   "outputs": [
    {
     "data": {
      "text/plain": [
       "Text(0, 0.5, 'Est. Reading Time (avg. reading speed of 300 wpm)')"
      ]
     },
     "execution_count": 41,
     "metadata": {},
     "output_type": "execute_result"
    },
    {
     "data": {
      "image/png": "[encoded data removed]",
      "text/plain": [
       "<Figure size 720x360 with 1 Axes>"
      ]
     },
     "metadata": {
      "needs_background": "light"
     },
     "output_type": "display_data"
    }
   ],
   "source": [
    "usa_data = policy_data[policy_data['Location'].isin(['USA','World'])]\n",
    "plot = usa_data.plot(kind='bar', x = 'Website', y = 'Reading_Time', \n",
    "                       title =\"Estimated Reading Time (minutes) for Privacy Policy\", figsize=(10, 5), fontsize=10, \n",
    "                      legend = None)\n",
    "plot.set_xticklabels(usa_data.Website, rotation=45)\n",
    "plot.set_ylabel(\"Est. Reading Time (avg. reading speed of 300 wpm)\")"
   ]
  },
  {
   "cell_type": "markdown",
   "metadata": {},
   "source": [
    "- Plot of count of policy words that are coded as vague:"
   ]
  },
  {
   "cell_type": "code",
   "execution_count": 42,
   "metadata": {},
   "outputs": [
    {
     "data": {
      "text/plain": [
       "Text(0, 0.5, 'Vague Word Count')"
      ]
     },
     "execution_count": 42,
     "metadata": {},
     "output_type": "execute_result"
    },
    {
     "data": {
      "image/png": "[encoded data removed]",
      "text/plain": [
       "<Figure size 720x360 with 1 Axes>"
      ]
     },
     "metadata": {
      "needs_background": "light"
     },
     "output_type": "display_data"
    }
   ],
   "source": [
    "plot = usa_data.plot(kind='bar', x = 'Website', y = 'Vague_Count', \n",
    "                       title =\"Vague Word Count in Policy by Company\", figsize=(10, 5), fontsize=10, \n",
    "                      legend = None)\n",
    "plot.set_xticklabels(usa_data.Website, rotation=45)\n",
    "plot.set_ylabel(\"Vague Word Count\")"
   ]
  },
  {
   "cell_type": "markdown",
   "metadata": {},
   "source": [
    "- Pie chart of work or education internet use requirements"
   ]
  },
  {
   "cell_type": "code",
   "execution_count": 43,
   "metadata": {},
   "outputs": [
    {
     "data": {
      "image/png": "[encoded data removed]",
      "text/plain": [
       "<Figure size 432x288 with 1 Axes>"
      ]
     },
     "metadata": {},
     "output_type": "display_data"
    }
   ],
   "source": [
    "labels = 'Yes', 'No'\n",
    "sizes = [sum(clean_results.internet_required==1), sum(clean_results.internet_required==0)]\n",
    "colors = ['lightcoral', 'lightskyblue']\n",
    "\n",
    "# Plot\n",
    "plt.pie(sizes, labels=labels, colors=colors,autopct='%1.1f%%', shadow=False, startangle=140)\n",
    "plt.axis('equal')\n",
    "plt.title(questions[1])\n",
    "plt.show()"
   ]
  },
  {
   "cell_type": "markdown",
   "metadata": {},
   "source": [
    "- Pie chart of data privacy importance"
   ]
  },
  {
   "cell_type": "code",
   "execution_count": 44,
   "metadata": {},
   "outputs": [
    {
     "data": {
      "image/png": "[encoded data removed]",
      "text/plain": [
       "<Figure size 432x288 with 1 Axes>"
      ]
     },
     "metadata": {},
     "output_type": "display_data"
    }
   ],
   "source": [
    "labels = 'Yes', 'No'\n",
    "sizes = [sum(clean_results.priv_important==1), sum(clean_results.priv_important==0)]\n",
    "colors = ['lightcoral', 'lightskyblue']\n",
    "\n",
    "# Plot\n",
    "plt.pie(sizes, labels=labels, colors=colors,\n",
    "autopct='%1.1f%%', shadow=False, startangle=140)\n",
    "plt.axis('equal')\n",
    "plt.title(questions[2])\n",
    "plt.show()"
   ]
  },
  {
   "cell_type": "markdown",
   "metadata": {},
   "source": [
    "- Pie chart of has ever read privacy policy"
   ]
  },
  {
   "cell_type": "code",
   "execution_count": 45,
   "metadata": {},
   "outputs": [
    {
     "data": {
      "image/png": "[encoded data removed]",
      "text/plain": [
       "<Figure size 432x288 with 1 Axes>"
      ]
     },
     "metadata": {},
     "output_type": "display_data"
    }
   ],
   "source": [
    "labels = 'Yes', 'No'\n",
    "sizes = [sum(clean_results.read_whole==1), sum(clean_results.read_whole==0)]\n",
    "colors = ['lightcoral', 'lightskyblue']\n",
    "\n",
    "# Plot\n",
    "plt.pie(sizes, labels=labels, colors=colors,\n",
    "autopct='%1.1f%%', shadow=False, startangle=140)\n",
    "plt.axis('equal')\n",
    "plt.title(questions[3])\n",
    "plt.show()"
   ]
  },
  {
   "cell_type": "markdown",
   "metadata": {},
   "source": [
    "- Plot of typically read privacy policies"
   ]
  },
  {
   "cell_type": "code",
   "execution_count": 46,
   "metadata": {},
   "outputs": [
    {
     "data": {
      "image/png": "[encoded data removed]",
      "text/plain": [
       "<Figure size 432x288 with 1 Axes>"
      ]
     },
     "metadata": {},
     "output_type": "display_data"
    }
   ],
   "source": [
    "labels = 'Yes', 'No'\n",
    "sizes = [sum(clean_results.typically_read==1), sum(clean_results.typically_read==0)]\n",
    "colors = ['lightcoral', 'lightskyblue']\n",
    "\n",
    "# Plot\n",
    "plt.pie(sizes, labels=labels, colors=colors,\n",
    "autopct='%1.1f%%', shadow=False, startangle=140)\n",
    "plt.axis('equal')\n",
    "plt.title(questions[4])\n",
    "plt.show()"
   ]
  },
  {
   "cell_type": "markdown",
   "metadata": {},
   "source": [
    "- Plot of reasons given for not reading privacy policies"
   ]
  },
  {
   "cell_type": "code",
   "execution_count": 47,
   "metadata": {},
   "outputs": [
    {
     "data": {
      "text/plain": [
       "Text(0, 0.5, 'Count')"
      ]
     },
     "execution_count": 47,
     "metadata": {},
     "output_type": "execute_result"
    },
    {
     "data": {
      "image/png": "[encoded data removed]",
      "text/plain": [
       "<Figure size 720x360 with 1 Axes>"
      ]
     },
     "metadata": {
      "needs_background": "light"
     },
     "output_type": "display_data"
    }
   ],
   "source": [
    "plot = reasons_df.plot(kind='bar', x = 'Reason', y = 'Count', \n",
    "                       title =\"Reasons Given for Not Reading Privacy Policies\", figsize=(10, 5), fontsize=12, \n",
    "                      legend = None)\n",
    "plot.set_xticklabels(labels, rotation=45)\n",
    "plot.set_ylabel(\"Count\")"
   ]
  },
  {
   "cell_type": "markdown",
   "metadata": {},
   "source": [
    "- Plot of data breach concern"
   ]
  },
  {
   "cell_type": "code",
   "execution_count": 48,
   "metadata": {},
   "outputs": [
    {
     "data": {
      "image/png": "[encoded data removed]",
      "text/plain": [
       "<Figure size 432x288 with 1 Axes>"
      ]
     },
     "metadata": {},
     "output_type": "display_data"
    }
   ],
   "source": [
    "labels = 'Yes', 'No'\n",
    "sizes = [sum(clean_results.breach_concern==1), sum(clean_results.breach_concern==0)]\n",
    "colors = ['lightcoral', 'lightskyblue']\n",
    "\n",
    "# Plot\n",
    "plt.pie(sizes, labels=labels, colors=colors,\n",
    "autopct='%1.1f%%', shadow=False, startangle=140)\n",
    "plt.axis('equal')\n",
    "plt.title(questions[7])\n",
    "plt.show()"
   ]
  },
  {
   "cell_type": "markdown",
   "metadata": {},
   "source": [
    "- Plot of affected by data breach "
   ]
  },
  {
   "cell_type": "code",
   "execution_count": 49,
   "metadata": {},
   "outputs": [
    {
     "data": {
      "image/png": "[encoded data removed]",
      "text/plain": [
       "<Figure size 432x288 with 1 Axes>"
      ]
     },
     "metadata": {},
     "output_type": "display_data"
    }
   ],
   "source": [
    "labels = 'Yes', 'No', \"I don't know\"\n",
    "sizes = [sum(clean_results.breach_affected==1), sum(clean_results.typically_read==0), \n",
    "        sum(clean_results.breach_affected==2)]\n",
    "colors = ['lightcoral', 'lightskyblue', 'gold']\n",
    "\n",
    "# Plot\n",
    "plt.pie(sizes, labels=labels, colors=colors,\n",
    "autopct='%1.1f%%', shadow=False, startangle=140)\n",
    "plt.axis('equal')\n",
    "plt.title(questions[8])\n",
    "plt.show()"
   ]
  },
  {
   "cell_type": "code",
   "execution_count": null,
   "metadata": {},
   "outputs": [],
   "source": []
  }
 ],
 "metadata": {
  "kernelspec": {
   "display_name": "nlp",
   "language": "python",
   "name": "nlp"
  },
  "language_info": {
   "codemirror_mode": {
    "name": "ipython",
    "version": 3
   },
   "file_extension": ".py",
   "mimetype": "text/x-python",
   "name": "python",
   "nbconvert_exporter": "python",
   "pygments_lexer": "ipython3",
   "version": "3.5.6"
  }
 },
 "nbformat": 4,
 "nbformat_minor": 4
}
